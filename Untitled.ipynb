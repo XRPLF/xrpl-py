{
 "cells": [
  {
   "cell_type": "code",
   "execution_count": 3,
   "id": "ccf14dd4-0977-4cd4-bc87-f47a9db2cd48",
   "metadata": {},
   "outputs": [],
   "source": [
    "import sys\n",
    "sys.path.append('/Users/ckeshavabs/xrpl-py')"
   ]
  },
  {
   "cell_type": "code",
   "execution_count": 4,
   "id": "3b6ba894-cc86-41b5-955e-da23f92217c0",
   "metadata": {},
   "outputs": [
    {
     "ename": "RuntimeError",
     "evalue": "This event loop is already running",
     "output_type": "error",
     "traceback": [
      "\u001b[0;31m---------------------------------------------------------------------------\u001b[0m",
      "\u001b[0;31mRuntimeError\u001b[0m                              Traceback (most recent call last)",
      "Cell \u001b[0;32mIn[4], line 12\u001b[0m\n\u001b[1;32m      9\u001b[0m loop \u001b[38;5;241m=\u001b[39m asyncio\u001b[38;5;241m.\u001b[39mget_event_loop()\n\u001b[1;32m     11\u001b[0m \u001b[38;5;66;03m# Run the coroutine within the event loop\u001b[39;00m\n\u001b[0;32m---> 12\u001b[0m result \u001b[38;5;241m=\u001b[39m \u001b[43mloop\u001b[49m\u001b[38;5;241;43m.\u001b[39;49m\u001b[43mrun_until_complete\u001b[49m\u001b[43m(\u001b[49m\u001b[43mmy_coroutine\u001b[49m\u001b[43m(\u001b[49m\u001b[43m)\u001b[49m\u001b[43m)\u001b[49m\n\u001b[1;32m     14\u001b[0m \u001b[38;5;28mprint\u001b[39m(result)  \u001b[38;5;66;03m# Print the result returned by the coroutine\u001b[39;00m\n\u001b[1;32m     16\u001b[0m \u001b[38;5;66;03m# Don't forget to close the event loop\u001b[39;00m\n",
      "File \u001b[0;32m~/.pyenv/versions/3.9.1/lib/python3.9/asyncio/base_events.py:618\u001b[0m, in \u001b[0;36mBaseEventLoop.run_until_complete\u001b[0;34m(self, future)\u001b[0m\n\u001b[1;32m    607\u001b[0m \u001b[38;5;250m\u001b[39m\u001b[38;5;124;03m\"\"\"Run until the Future is done.\u001b[39;00m\n\u001b[1;32m    608\u001b[0m \n\u001b[1;32m    609\u001b[0m \u001b[38;5;124;03mIf the argument is a coroutine, it is wrapped in a Task.\u001b[39;00m\n\u001b[0;32m   (...)\u001b[0m\n\u001b[1;32m    615\u001b[0m \u001b[38;5;124;03mReturn the Future's result, or raise its exception.\u001b[39;00m\n\u001b[1;32m    616\u001b[0m \u001b[38;5;124;03m\"\"\"\u001b[39;00m\n\u001b[1;32m    617\u001b[0m \u001b[38;5;28mself\u001b[39m\u001b[38;5;241m.\u001b[39m_check_closed()\n\u001b[0;32m--> 618\u001b[0m \u001b[38;5;28;43mself\u001b[39;49m\u001b[38;5;241;43m.\u001b[39;49m\u001b[43m_check_running\u001b[49m\u001b[43m(\u001b[49m\u001b[43m)\u001b[49m\n\u001b[1;32m    620\u001b[0m new_task \u001b[38;5;241m=\u001b[39m \u001b[38;5;129;01mnot\u001b[39;00m futures\u001b[38;5;241m.\u001b[39misfuture(future)\n\u001b[1;32m    621\u001b[0m future \u001b[38;5;241m=\u001b[39m tasks\u001b[38;5;241m.\u001b[39mensure_future(future, loop\u001b[38;5;241m=\u001b[39m\u001b[38;5;28mself\u001b[39m)\n",
      "File \u001b[0;32m~/.pyenv/versions/3.9.1/lib/python3.9/asyncio/base_events.py:578\u001b[0m, in \u001b[0;36mBaseEventLoop._check_running\u001b[0;34m(self)\u001b[0m\n\u001b[1;32m    576\u001b[0m \u001b[38;5;28;01mdef\u001b[39;00m \u001b[38;5;21m_check_running\u001b[39m(\u001b[38;5;28mself\u001b[39m):\n\u001b[1;32m    577\u001b[0m     \u001b[38;5;28;01mif\u001b[39;00m \u001b[38;5;28mself\u001b[39m\u001b[38;5;241m.\u001b[39mis_running():\n\u001b[0;32m--> 578\u001b[0m         \u001b[38;5;28;01mraise\u001b[39;00m \u001b[38;5;167;01mRuntimeError\u001b[39;00m(\u001b[38;5;124m'\u001b[39m\u001b[38;5;124mThis event loop is already running\u001b[39m\u001b[38;5;124m'\u001b[39m)\n\u001b[1;32m    579\u001b[0m     \u001b[38;5;28;01mif\u001b[39;00m events\u001b[38;5;241m.\u001b[39m_get_running_loop() \u001b[38;5;129;01mis\u001b[39;00m \u001b[38;5;129;01mnot\u001b[39;00m \u001b[38;5;28;01mNone\u001b[39;00m:\n\u001b[1;32m    580\u001b[0m         \u001b[38;5;28;01mraise\u001b[39;00m \u001b[38;5;167;01mRuntimeError\u001b[39;00m(\n\u001b[1;32m    581\u001b[0m             \u001b[38;5;124m'\u001b[39m\u001b[38;5;124mCannot run the event loop while another loop is running\u001b[39m\u001b[38;5;124m'\u001b[39m)\n",
      "\u001b[0;31mRuntimeError\u001b[0m: This event loop is already running"
     ]
    }
   ],
   "source": [
    "import asyncio\n",
    "\n",
    "async def my_coroutine():\n",
    "    # Your coroutine logic here\n",
    "    await asyncio.sleep(1)\n",
    "    return 'Coroutine finished'\n",
    "\n",
    "# Manually create an event loop\n",
    "loop = asyncio.get_event_loop()\n",
    "\n",
    "# Run the coroutine within the event loop\n",
    "result = loop.run_until_complete(my_coroutine())\n",
    "\n",
    "print(result)  # Print the result returned by the coroutine\n",
    "\n",
    "# Don't forget to close the event loop\n",
    "loop.close()\n"
   ]
  },
  {
   "cell_type": "code",
   "execution_count": 2,
   "id": "33874ac8-ddbb-4e42-945d-3cd0e4735a9e",
   "metadata": {},
   "outputs": [
    {
     "ename": "KeyboardInterrupt",
     "evalue": "",
     "output_type": "error",
     "traceback": [
      "\u001b[0;31m---------------------------------------------------------------------------\u001b[0m",
      "\u001b[0;31mKeyboardInterrupt\u001b[0m                         Traceback (most recent call last)",
      "Cell \u001b[0;32mIn[2], line 8\u001b[0m\n\u001b[1;32m      6\u001b[0m future \u001b[38;5;241m=\u001b[39m asyncio\u001b[38;5;241m.\u001b[39mrun_coroutine_threadsafe(main(), loop)\n\u001b[1;32m      7\u001b[0m \u001b[38;5;28;01mtry\u001b[39;00m:\n\u001b[0;32m----> 8\u001b[0m     result \u001b[38;5;241m=\u001b[39m \u001b[43mfuture\u001b[49m\u001b[38;5;241;43m.\u001b[39;49m\u001b[43mresult\u001b[49m\u001b[43m(\u001b[49m\u001b[43m)\u001b[49m\n\u001b[1;32m      9\u001b[0m \u001b[38;5;28;01mexcept\u001b[39;00m \u001b[38;5;167;01mTimeoutError\u001b[39;00m:\n\u001b[1;32m     10\u001b[0m     \u001b[38;5;28mprint\u001b[39m(\u001b[38;5;124m'\u001b[39m\u001b[38;5;124mThe coroutine took too long, cancelling the task...\u001b[39m\u001b[38;5;124m'\u001b[39m)\n",
      "File \u001b[0;32m~/.pyenv/versions/3.9.1/lib/python3.9/concurrent/futures/_base.py:435\u001b[0m, in \u001b[0;36mFuture.result\u001b[0;34m(self, timeout)\u001b[0m\n\u001b[1;32m    432\u001b[0m \u001b[38;5;28;01melif\u001b[39;00m \u001b[38;5;28mself\u001b[39m\u001b[38;5;241m.\u001b[39m_state \u001b[38;5;241m==\u001b[39m FINISHED:\n\u001b[1;32m    433\u001b[0m     \u001b[38;5;28;01mreturn\u001b[39;00m \u001b[38;5;28mself\u001b[39m\u001b[38;5;241m.\u001b[39m__get_result()\n\u001b[0;32m--> 435\u001b[0m \u001b[38;5;28;43mself\u001b[39;49m\u001b[38;5;241;43m.\u001b[39;49m\u001b[43m_condition\u001b[49m\u001b[38;5;241;43m.\u001b[39;49m\u001b[43mwait\u001b[49m\u001b[43m(\u001b[49m\u001b[43mtimeout\u001b[49m\u001b[43m)\u001b[49m\n\u001b[1;32m    437\u001b[0m \u001b[38;5;28;01mif\u001b[39;00m \u001b[38;5;28mself\u001b[39m\u001b[38;5;241m.\u001b[39m_state \u001b[38;5;129;01min\u001b[39;00m [CANCELLED, CANCELLED_AND_NOTIFIED]:\n\u001b[1;32m    438\u001b[0m     \u001b[38;5;28;01mraise\u001b[39;00m CancelledError()\n",
      "File \u001b[0;32m~/.pyenv/versions/3.9.1/lib/python3.9/threading.py:312\u001b[0m, in \u001b[0;36mCondition.wait\u001b[0;34m(self, timeout)\u001b[0m\n\u001b[1;32m    310\u001b[0m \u001b[38;5;28;01mtry\u001b[39;00m:    \u001b[38;5;66;03m# restore state no matter what (e.g., KeyboardInterrupt)\u001b[39;00m\n\u001b[1;32m    311\u001b[0m     \u001b[38;5;28;01mif\u001b[39;00m timeout \u001b[38;5;129;01mis\u001b[39;00m \u001b[38;5;28;01mNone\u001b[39;00m:\n\u001b[0;32m--> 312\u001b[0m         \u001b[43mwaiter\u001b[49m\u001b[38;5;241;43m.\u001b[39;49m\u001b[43macquire\u001b[49m\u001b[43m(\u001b[49m\u001b[43m)\u001b[49m\n\u001b[1;32m    313\u001b[0m         gotit \u001b[38;5;241m=\u001b[39m \u001b[38;5;28;01mTrue\u001b[39;00m\n\u001b[1;32m    314\u001b[0m     \u001b[38;5;28;01melse\u001b[39;00m:\n",
      "\u001b[0;31mKeyboardInterrupt\u001b[0m: "
     ]
    },
    {
     "name": "stdout",
     "output_type": "stream",
     "text": [
      "hello\n"
     ]
    }
   ],
   "source": [
    "import asyncio\n",
    "async def main():\n",
    "    print('hello')\n",
    "\n",
    "loop = asyncio.get_running_loop()\n",
    "future = asyncio.run_coroutine_threadsafe(main(), loop)\n",
    "try:\n",
    "    result = future.result()\n",
    "except TimeoutError:\n",
    "    print('The coroutine took too long, cancelling the task...')\n",
    "    future.cancel()\n",
    "except Exception as exc:\n",
    "    print(f'The coroutine raised an exception: {exc!r}')\n",
    "else:\n",
    "    print(f'The coroutine returned: {result!r}')"
   ]
  },
  {
   "cell_type": "code",
   "execution_count": null,
   "id": "19d3fba6-d744-4435-8ae2-3c393cf0b510",
   "metadata": {},
   "outputs": [],
   "source": [
    "from xrpl.account import get_balance\n",
    "from xrpl.clients import JsonRpcClient\n",
    "from xrpl.models import Payment, Tx\n",
    "from xrpl.transaction import submit_and_wait\n",
    "from xrpl.wallet import generate_faucet_wallet\n",
    "\n",
    "# Create a client to connect to the test network\n",
    "client = JsonRpcClient(\"https://s.altnet.rippletest.net:51234\")\n",
    "\n",
    "# Create two wallets to send money between on the test network\n",
    "wallet1 = generate_faucet_wallet(client, debug=True)\n",
    "wallet2 = generate_faucet_wallet(client, debug=True)\n",
    "\n",
    "# Both balances should be zero since nothing has been sent yet\n",
    "print(\"Balances of wallets before Payment tx\")\n",
    "print(get_balance(wallet1.address, client))\n",
    "print(get_balance(wallet2.address, client))\n",
    "\n",
    "# Create a Payment transaction from wallet1 to wallet2\n",
    "payment_tx = Payment(\n",
    "    account=wallet1.address,\n",
    "    amount=\"1000\",\n",
    "    destination=wallet2.address,\n",
    ")\n",
    "\n",
    "# Submit the payment to the network and wait to see a response\n",
    "#   Behind the scenes, this fills in fields which can be looked up automatically like the fee.\n",
    "#   It also signs the transaction with wallet1 to prove you own the account you're paying from.\n",
    "payment_response = submit_and_wait(payment_tx, client, wallet1)\n",
    "print(\"Transaction was submitted\")\n",
    "\n",
    "# Create a \"Tx\" request to look up the transaction on the ledger\n",
    "tx_response = client.request(Tx(transaction=payment_response.result[\"hash\"]))\n",
    "\n",
    "# Check whether the transaction was actually validated on ledger\n",
    "print(\"Validated:\", tx_response.result[\"validated\"])\n",
    "\n",
    "# Check balances after 1000 drops (.001 XRP) was sent from wallet1 to wallet2\n",
    "print(\"Balances of wallets after Payment tx:\")\n",
    "print(get_balance(wallet1.address, client))\n",
    "print(get_balance(wallet2.address, client))"
   ]
  },
  {
   "cell_type": "code",
   "execution_count": null,
   "id": "036ddba8-9ef9-4a85-805d-e3b3db5d3b9e",
   "metadata": {},
   "outputs": [],
   "source": []
  },
  {
   "cell_type": "code",
   "execution_count": null,
   "id": "2ee0a0a5-4b64-4257-94c5-396ebe76bc9e",
   "metadata": {},
   "outputs": [],
   "source": []
  }
 ],
 "metadata": {
  "kernelspec": {
   "display_name": "pyenv",
   "language": "python",
   "name": "pyenv"
  },
  "language_info": {
   "codemirror_mode": {
    "name": "ipython",
    "version": 3
   },
   "file_extension": ".py",
   "mimetype": "text/x-python",
   "name": "python",
   "nbconvert_exporter": "python",
   "pygments_lexer": "ipython3",
   "version": "3.9.1"
  }
 },
 "nbformat": 4,
 "nbformat_minor": 5
}
